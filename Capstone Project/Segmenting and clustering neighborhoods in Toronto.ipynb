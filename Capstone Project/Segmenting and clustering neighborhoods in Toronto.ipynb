{
 "cells": [
  {
   "cell_type": "markdown",
   "metadata": {},
   "source": [
    "# Segmenting and Clustering Neighborhood in Toronto"
   ]
  },
  {
   "cell_type": "markdown",
   "metadata": {},
   "source": [
    "![Image of Yaktocat](http://www.marks-clerk.fr/MarksClerk/media/MCMediaLib/Office%20Page%20Images%20fr/Toronto.jpg?width=976&height=340&ext=.jpg)\n"
   ]
  },
  {
   "cell_type": "markdown",
   "metadata": {},
   "source": [
    "## Step 1: Retrieve Neighborhood Data"
   ]
  },
  {
   "cell_type": "markdown",
   "metadata": {},
   "source": [
    "First step, to be able to clustering and segmenting Toronto neighborhood is to have data on it. Unfortunatly, these data doesn't exist in a dataset form. We should use wikipedia to retrieve and create our own dataset. \n",
    "\n",
    "To do this:\n",
    "\n",
    "- [x] Source the wikipedia page\n",
    "- [x] Web scrapping of it\n",
    "- [x] Clean the data and create a data frame\n"
   ]
  },
  {
   "cell_type": "code",
   "execution_count": 4,
   "metadata": {},
   "outputs": [],
   "source": [
    "#Install (or upgrade) BeautifulSoup\n",
    "#!pip install -U beautifulsoup4\n"
   ]
  },
  {
   "cell_type": "code",
   "execution_count": 5,
   "metadata": {},
   "outputs": [],
   "source": [
    "#install parse lxml\n",
    "#!pip install lxml"
   ]
  },
  {
   "cell_type": "code",
   "execution_count": 6,
   "metadata": {},
   "outputs": [],
   "source": [
    "#import BeautifulSoup\n",
    "import bs4 #for html parsing\n",
    "import requests #to reate an html file from an url\n",
    "import pandas as pd"
   ]
  },
  {
   "cell_type": "code",
   "execution_count": 7,
   "metadata": {},
   "outputs": [],
   "source": [
    "url='https://en.wikipedia.org/wiki/List_of_postal_codes_of_Canada:_M'\n",
    "responses=requests.get(url)\n",
    "#responses.text"
   ]
  },
  {
   "cell_type": "code",
   "execution_count": 8,
   "metadata": {},
   "outputs": [],
   "source": [
    "#Enhance the display of html doc to make mroe readable\n",
    "html_soup = bs4.BeautifulSoup(responses.text, 'html.parser') \n",
    "#html_soup"
   ]
  },
  {
   "cell_type": "markdown",
   "metadata": {},
   "source": [
    "<code> html_soup </code> contains the html source code of the page. We will keep only what you want, the table of neighborhood. In HTML, it is the <code> table </code> tag and <code> tr, th </code> tag (rows and headers).\n",
    "Below **table_rows** contains all rows of the table, header included. Each rows is a list and table_row is also a list."
   ]
  },
  {
   "cell_type": "code",
   "execution_count": 9,
   "metadata": {},
   "outputs": [
    {
     "data": {
      "text/plain": [
       "[<tr>\n",
       " <th>Postal code\n",
       " </th>\n",
       " <th>Borough\n",
       " </th>\n",
       " <th>Neighborhood\n",
       " </th></tr>, <tr>\n",
       " <td>M1A\n",
       " </td>\n",
       " <td>Not assigned\n",
       " </td>\n",
       " <td>\n",
       " </td></tr>]"
      ]
     },
     "execution_count": 9,
     "metadata": {},
     "output_type": "execute_result"
    }
   ],
   "source": [
    "#find a specific type of html\n",
    "table_rows = html_soup.find_all('tr')#, class_ = 'lister-item mode-advanced')\n",
    "table_rows[0:2]"
   ]
  },
  {
   "cell_type": "markdown",
   "metadata": {},
   "source": [
    "First we retrieve the header for our dataframe."
   ]
  },
  {
   "cell_type": "code",
   "execution_count": 10,
   "metadata": {},
   "outputs": [],
   "source": [
    "#Standardize the name of columns (cleaning)\n",
    "columns=table_rows[0].find_all('th')\n",
    "for i in range(0,len(columns)):\n",
    "    columns[i]=str(columns[i])\n",
    "    columns[i]=columns[i].replace('<th>','')    \n",
    "    columns[i]=columns[i].replace('\\n','')\n",
    "    columns[i]=columns[i].replace('</th>','')\n",
    "#    print(columns)"
   ]
  },
  {
   "cell_type": "code",
   "execution_count": 11,
   "metadata": {},
   "outputs": [],
   "source": [
    "#Subset the table to keep only the content (remove header)\n",
    "length=len(table_rows)\n",
    "table_content=table_rows[1:length+1]"
   ]
  },
  {
   "cell_type": "markdown",
   "metadata": {},
   "source": [
    "A sublist of the <code> Table_content </code> list is an HTML row. "
   ]
  },
  {
   "cell_type": "code",
   "execution_count": 12,
   "metadata": {
    "scrolled": true
   },
   "outputs": [
    {
     "data": {
      "text/plain": [
       "<tr>\n",
       "<td>M1A\n",
       "</td>\n",
       "<td>Not assigned\n",
       "</td>\n",
       "<td>\n",
       "</td></tr>"
      ]
     },
     "execution_count": 12,
     "metadata": {},
     "output_type": "execute_result"
    }
   ],
   "source": [
    "table_content[0]"
   ]
  },
  {
   "cell_type": "code",
   "execution_count": 13,
   "metadata": {},
   "outputs": [],
   "source": [
    "d=[]\n",
    "for tr in table_content:\n",
    "    td = tr.find_all('td')\n",
    "    row = [tr.text for tr in td]\n",
    "    \n",
    "    #clean the row of its HTML tag\n",
    "    for i in range(0,len(row)):\n",
    "        row[i]=row[i].replace('\\n','')\n",
    "        row[i]=row[i].replace('/',',')\n",
    "        \n",
    "    #to avoid error with the last row of the table\n",
    "    if len(row)==2:\n",
    "        row=row+['']\n",
    "        \n",
    "    #If Borough is asisgned but neighborhood not assigned, replace by the borough name.\n",
    "    if (row[2]=='Not assigned') and (row[1] != 'Not assigned'):\n",
    "        row[2]=row[1]\n",
    "    \n",
    "    #Keep only rows with a Borough assigned\n",
    "    if (row[1] != '') and (row[1] != 'Not assigned'):\n",
    "        dict=[{'Postal code':row[0], 'Borough':row[1], 'Neighborhood':row[2]}]\n",
    "        d = d + dict\n"
   ]
  },
  {
   "cell_type": "code",
   "execution_count": 78,
   "metadata": {},
   "outputs": [],
   "source": [
    "data=pd.DataFrame(d,columns=columns)\n"
   ]
  },
  {
   "cell_type": "markdown",
   "metadata": {},
   "source": [
    "We discover that the 3 last rows are odd and we decide to remove from our dataset."
   ]
  },
  {
   "cell_type": "code",
   "execution_count": 77,
   "metadata": {},
   "outputs": [
    {
     "data": {
      "text/html": [
       "<div>\n",
       "<style scoped>\n",
       "    .dataframe tbody tr th:only-of-type {\n",
       "        vertical-align: middle;\n",
       "    }\n",
       "\n",
       "    .dataframe tbody tr th {\n",
       "        vertical-align: top;\n",
       "    }\n",
       "\n",
       "    .dataframe thead th {\n",
       "        text-align: right;\n",
       "    }\n",
       "</style>\n",
       "<table border=\"1\" class=\"dataframe\">\n",
       "  <thead>\n",
       "    <tr style=\"text-align: right;\">\n",
       "      <th></th>\n",
       "      <th>Postal code</th>\n",
       "      <th>Borough</th>\n",
       "      <th>Neighborhood</th>\n",
       "    </tr>\n",
       "  </thead>\n",
       "  <tbody>\n",
       "    <tr>\n",
       "      <td>98</td>\n",
       "      <td>M8X</td>\n",
       "      <td>Etobicoke</td>\n",
       "      <td>The Kingsway , Montgomery Road  , Old Mill North</td>\n",
       "    </tr>\n",
       "    <tr>\n",
       "      <td>99</td>\n",
       "      <td>M4Y</td>\n",
       "      <td>Downtown Toronto</td>\n",
       "      <td>Church and Wellesley</td>\n",
       "    </tr>\n",
       "    <tr>\n",
       "      <td>100</td>\n",
       "      <td>M7Y</td>\n",
       "      <td>East Toronto</td>\n",
       "      <td>Business reply mail Processing CentrE</td>\n",
       "    </tr>\n",
       "    <tr>\n",
       "      <td>101</td>\n",
       "      <td>M8Y</td>\n",
       "      <td>Etobicoke</td>\n",
       "      <td>Old Mill South , King's Mill Park , Sunnylea ,...</td>\n",
       "    </tr>\n",
       "    <tr>\n",
       "      <td>102</td>\n",
       "      <td>M8Z</td>\n",
       "      <td>Etobicoke</td>\n",
       "      <td>Mimico NW , The Queensway West , South of Bloo...</td>\n",
       "    </tr>\n",
       "  </tbody>\n",
       "</table>\n",
       "</div>"
      ],
      "text/plain": [
       "    Postal code           Borough  \\\n",
       "98          M8X         Etobicoke   \n",
       "99          M4Y  Downtown Toronto   \n",
       "100         M7Y      East Toronto   \n",
       "101         M8Y         Etobicoke   \n",
       "102         M8Z         Etobicoke   \n",
       "\n",
       "                                          Neighborhood  \n",
       "98    The Kingsway , Montgomery Road  , Old Mill North  \n",
       "99                                Church and Wellesley  \n",
       "100              Business reply mail Processing CentrE  \n",
       "101  Old Mill South , King's Mill Park , Sunnylea ,...  \n",
       "102  Mimico NW , The Queensway West , South of Bloo...  "
      ]
     },
     "execution_count": 77,
     "metadata": {},
     "output_type": "execute_result"
    }
   ],
   "source": [
    "data.tail()\n"
   ]
  },
  {
   "cell_type": "code",
   "execution_count": 79,
   "metadata": {},
   "outputs": [
    {
     "name": "stdout",
     "output_type": "stream",
     "text": [
      "Dataset has  103  rows (Borough)\n",
      "  Postal code           Borough                                  Neighborhood\n",
      "0         M3A        North York                                     Parkwoods\n",
      "1         M4A        North York                              Victoria Village\n",
      "2         M5A  Downtown Toronto                    Regent Park , Harbourfront\n",
      "3         M6A        North York             Lawrence Manor , Lawrence Heights\n",
      "4         M7A  Downtown Toronto  Queen's Park , Ontario Provincial Government\n",
      "...\n",
      "    Postal code           Borough  \\\n",
      "98          M8X         Etobicoke   \n",
      "99          M4Y  Downtown Toronto   \n",
      "100         M7Y      East Toronto   \n",
      "101         M8Y         Etobicoke   \n",
      "102         M8Z         Etobicoke   \n",
      "\n",
      "                                          Neighborhood  \n",
      "98    The Kingsway , Montgomery Road  , Old Mill North  \n",
      "99                                Church and Wellesley  \n",
      "100              Business reply mail Processing CentrE  \n",
      "101  Old Mill South , King's Mill Park , Sunnylea ,...  \n",
      "102  Mimico NW , The Queensway West , South of Bloo...  \n"
     ]
    }
   ],
   "source": [
    "data = data.drop([103,104,105],axis=0)\n",
    "print('Dataset has ',data.shape[0],' rows (Borough)')\n",
    "print(data.head())\n",
    "print('...')\n",
    "print(data.tail())"
   ]
  },
  {
   "cell_type": "markdown",
   "metadata": {},
   "source": [
    " "
   ]
  },
  {
   "cell_type": "markdown",
   "metadata": {},
   "source": [
    "## Step 2 : Enrich our dataset with geographic coordinates"
   ]
  },
  {
   "cell_type": "markdown",
   "metadata": {},
   "source": [
    "Now we have our dataset. The next step is to enrich it with geo coordinates of location. \n",
    "To do it, we use the geocoder library."
   ]
  },
  {
   "cell_type": "code",
   "execution_count": 82,
   "metadata": {},
   "outputs": [],
   "source": [
    "#!pip install geocoder"
   ]
  },
  {
   "cell_type": "code",
   "execution_count": 51,
   "metadata": {},
   "outputs": [],
   "source": [
    "import geocoder"
   ]
  },
  {
   "cell_type": "markdown",
   "metadata": {},
   "source": [
    "In the descirption fo the assignement, we use google as provider for the coordinates. But this doesn't work (after 1hours, no coordinates retrieve). So we decide to change provider."
   ]
  },
  {
   "cell_type": "raw",
   "metadata": {},
   "source": [
    "# with google provider:\n",
    "#test with 6 first rows before.\n",
    "for i,code in enumerate(data.loc[0:5,'Postal code']):\n",
    "    # initialize your variable to None\n",
    "    lat_lng_coords = None\n",
    "    postal_code= data.loc[i,'Postal code']\n",
    "    location= postal_code + ',Toronto, Ontario'\n",
    "\n",
    "    # loop until you get the coordinates\n",
    "    while(lat_lng_coords is None):\n",
    "        g = geocoder.google(location)\n",
    "        lat_lng_coords = g.latlng\n",
    "\n",
    "    data.loc[i,'latitude']=lat_lng_coords[0]\n",
    "    data.loc[i,'longitude']=lat_lng_coords[1]"
   ]
  },
  {
   "cell_type": "markdown",
   "metadata": {},
   "source": [
    "From the documentation of the library, It exist the geocodefarm, which can retrieve our coordinates (better than google)"
   ]
  },
  {
   "cell_type": "code",
   "execution_count": null,
   "metadata": {},
   "outputs": [],
   "source": [
    "# @hidden_cell\n",
    "#key for mapquest\n",
    "api_key='HLJmHd8IPVFjJmXifeWEml3TCWFABHbG'"
   ]
  },
  {
   "cell_type": "code",
   "execution_count": 143,
   "metadata": {
    "scrolled": true
   },
   "outputs": [
    {
     "name": "stdout",
     "output_type": "stream",
     "text": [
      "M4T, Toronto, Ontario\n",
      "[43.651893, -79.381713]\n"
     ]
    }
   ],
   "source": [
    "test = data.loc[83,'Postal code'] + ', Toronto, Ontario'\n",
    "print(test)\n",
    "g = geocoder.mapquest(test,key=api_key)\n",
    "print(g.latlng)\n"
   ]
  },
  {
   "cell_type": "markdown",
   "metadata": {},
   "source": [
    "So to use it, first we create two empty columns to store our results."
   ]
  },
  {
   "cell_type": "code",
   "execution_count": 106,
   "metadata": {
    "scrolled": true
   },
   "outputs": [
    {
     "data": {
      "text/html": [
       "<div>\n",
       "<style scoped>\n",
       "    .dataframe tbody tr th:only-of-type {\n",
       "        vertical-align: middle;\n",
       "    }\n",
       "\n",
       "    .dataframe tbody tr th {\n",
       "        vertical-align: top;\n",
       "    }\n",
       "\n",
       "    .dataframe thead th {\n",
       "        text-align: right;\n",
       "    }\n",
       "</style>\n",
       "<table border=\"1\" class=\"dataframe\">\n",
       "  <thead>\n",
       "    <tr style=\"text-align: right;\">\n",
       "      <th></th>\n",
       "      <th>Postal code</th>\n",
       "      <th>Borough</th>\n",
       "      <th>Neighborhood</th>\n",
       "      <th>latitude</th>\n",
       "      <th>longitude</th>\n",
       "    </tr>\n",
       "  </thead>\n",
       "  <tbody>\n",
       "    <tr>\n",
       "      <td>0</td>\n",
       "      <td>M3A</td>\n",
       "      <td>North York</td>\n",
       "      <td>Parkwoods</td>\n",
       "      <td>NaN</td>\n",
       "      <td>NaN</td>\n",
       "    </tr>\n",
       "    <tr>\n",
       "      <td>1</td>\n",
       "      <td>M4A</td>\n",
       "      <td>North York</td>\n",
       "      <td>Victoria Village</td>\n",
       "      <td>NaN</td>\n",
       "      <td>NaN</td>\n",
       "    </tr>\n",
       "    <tr>\n",
       "      <td>2</td>\n",
       "      <td>M5A</td>\n",
       "      <td>Downtown Toronto</td>\n",
       "      <td>Regent Park , Harbourfront</td>\n",
       "      <td>NaN</td>\n",
       "      <td>NaN</td>\n",
       "    </tr>\n",
       "    <tr>\n",
       "      <td>3</td>\n",
       "      <td>M6A</td>\n",
       "      <td>North York</td>\n",
       "      <td>Lawrence Manor , Lawrence Heights</td>\n",
       "      <td>NaN</td>\n",
       "      <td>NaN</td>\n",
       "    </tr>\n",
       "    <tr>\n",
       "      <td>4</td>\n",
       "      <td>M7A</td>\n",
       "      <td>Downtown Toronto</td>\n",
       "      <td>Queen's Park , Ontario Provincial Government</td>\n",
       "      <td>NaN</td>\n",
       "      <td>NaN</td>\n",
       "    </tr>\n",
       "  </tbody>\n",
       "</table>\n",
       "</div>"
      ],
      "text/plain": [
       "  Postal code           Borough                                  Neighborhood  \\\n",
       "0         M3A        North York                                     Parkwoods   \n",
       "1         M4A        North York                              Victoria Village   \n",
       "2         M5A  Downtown Toronto                    Regent Park , Harbourfront   \n",
       "3         M6A        North York             Lawrence Manor , Lawrence Heights   \n",
       "4         M7A  Downtown Toronto  Queen's Park , Ontario Provincial Government   \n",
       "\n",
       "   latitude  longitude  \n",
       "0       NaN        NaN  \n",
       "1       NaN        NaN  \n",
       "2       NaN        NaN  \n",
       "3       NaN        NaN  \n",
       "4       NaN        NaN  "
      ]
     },
     "execution_count": 106,
     "metadata": {},
     "output_type": "execute_result"
    }
   ],
   "source": [
    "import numpy as np\n",
    "data['latitude']=np.nan\n",
    "data['longitude']=np.nan\n",
    "data.head()"
   ]
  },
  {
   "cell_type": "markdown",
   "metadata": {},
   "source": [
    "Then we run the loop to fill in our dataframe with the coordinates."
   ]
  },
  {
   "cell_type": "code",
   "execution_count": 140,
   "metadata": {},
   "outputs": [],
   "source": []
  },
  {
   "cell_type": "code",
   "execution_count": 138,
   "metadata": {},
   "outputs": [],
   "source": [
    "\n",
    "for i,code in enumerate(data['Postal code']):\n",
    "   \n",
    "    # initialize your variable to None\n",
    "    lat_lng_coords = None\n",
    "   # postal_code= data.loc[i,'Postal code']\n",
    "    location= code + ',Toronto, Ontario'\n",
    "    \n",
    "    k=0\n",
    "    while (lat_lng_coords == None) and (k<6):\n",
    "        k= k+1\n",
    "        g = geocoder.mapquest(location, key=api_key)\n",
    "        lat_lng_coords = g.latlng\n",
    "        \n",
    "    if lat_lng_coords == None:\n",
    "        print(i, ': ', code, ' - ' ,lat_lng_coords)\n",
    "    else:\n",
    "        data.loc[i,'latitude']=lat_lng_coords[0]\n",
    "        data.loc[i,'longitude']=lat_lng_coords[1]"
   ]
  },
  {
   "cell_type": "markdown",
   "metadata": {},
   "source": [
    "Checking if we have fetch all coordinates:"
   ]
  },
  {
   "cell_type": "code",
   "execution_count": 141,
   "metadata": {},
   "outputs": [
    {
     "data": {
      "text/html": [
       "<div>\n",
       "<style scoped>\n",
       "    .dataframe tbody tr th:only-of-type {\n",
       "        vertical-align: middle;\n",
       "    }\n",
       "\n",
       "    .dataframe tbody tr th {\n",
       "        vertical-align: top;\n",
       "    }\n",
       "\n",
       "    .dataframe thead th {\n",
       "        text-align: right;\n",
       "    }\n",
       "</style>\n",
       "<table border=\"1\" class=\"dataframe\">\n",
       "  <thead>\n",
       "    <tr style=\"text-align: right;\">\n",
       "      <th></th>\n",
       "      <th>Postal code</th>\n",
       "      <th>Borough</th>\n",
       "      <th>Neighborhood</th>\n",
       "      <th>latitude</th>\n",
       "      <th>longitude</th>\n",
       "    </tr>\n",
       "  </thead>\n",
       "  <tbody>\n",
       "  </tbody>\n",
       "</table>\n",
       "</div>"
      ],
      "text/plain": [
       "Empty DataFrame\n",
       "Columns: [Postal code, Borough, Neighborhood, latitude, longitude]\n",
       "Index: []"
      ]
     },
     "execution_count": 141,
     "metadata": {},
     "output_type": "execute_result"
    }
   ],
   "source": [
    "data[data['latitude'].isnull()==True]"
   ]
  },
  {
   "cell_type": "markdown",
   "metadata": {},
   "source": [
    "Ok So our data are good."
   ]
  },
  {
   "cell_type": "code",
   "execution_count": 144,
   "metadata": {},
   "outputs": [
    {
     "data": {
      "text/html": [
       "<div>\n",
       "<style scoped>\n",
       "    .dataframe tbody tr th:only-of-type {\n",
       "        vertical-align: middle;\n",
       "    }\n",
       "\n",
       "    .dataframe tbody tr th {\n",
       "        vertical-align: top;\n",
       "    }\n",
       "\n",
       "    .dataframe thead th {\n",
       "        text-align: right;\n",
       "    }\n",
       "</style>\n",
       "<table border=\"1\" class=\"dataframe\">\n",
       "  <thead>\n",
       "    <tr style=\"text-align: right;\">\n",
       "      <th></th>\n",
       "      <th>Postal code</th>\n",
       "      <th>Borough</th>\n",
       "      <th>Neighborhood</th>\n",
       "      <th>latitude</th>\n",
       "      <th>longitude</th>\n",
       "    </tr>\n",
       "  </thead>\n",
       "  <tbody>\n",
       "    <tr>\n",
       "      <td>0</td>\n",
       "      <td>M3A</td>\n",
       "      <td>North York</td>\n",
       "      <td>Parkwoods</td>\n",
       "      <td>43.654060</td>\n",
       "      <td>-79.368190</td>\n",
       "    </tr>\n",
       "    <tr>\n",
       "      <td>1</td>\n",
       "      <td>M4A</td>\n",
       "      <td>North York</td>\n",
       "      <td>Victoria Village</td>\n",
       "      <td>43.654060</td>\n",
       "      <td>-79.368190</td>\n",
       "    </tr>\n",
       "    <tr>\n",
       "      <td>2</td>\n",
       "      <td>M5A</td>\n",
       "      <td>Downtown Toronto</td>\n",
       "      <td>Regent Park , Harbourfront</td>\n",
       "      <td>43.654060</td>\n",
       "      <td>-79.368190</td>\n",
       "    </tr>\n",
       "    <tr>\n",
       "      <td>3</td>\n",
       "      <td>M6A</td>\n",
       "      <td>North York</td>\n",
       "      <td>Lawrence Manor , Lawrence Heights</td>\n",
       "      <td>43.654060</td>\n",
       "      <td>-79.368190</td>\n",
       "    </tr>\n",
       "    <tr>\n",
       "      <td>4</td>\n",
       "      <td>M7A</td>\n",
       "      <td>Downtown Toronto</td>\n",
       "      <td>Queen's Park , Ontario Provincial Government</td>\n",
       "      <td>43.662500</td>\n",
       "      <td>-79.392550</td>\n",
       "    </tr>\n",
       "    <tr>\n",
       "      <td>...</td>\n",
       "      <td>...</td>\n",
       "      <td>...</td>\n",
       "      <td>...</td>\n",
       "      <td>...</td>\n",
       "      <td>...</td>\n",
       "    </tr>\n",
       "    <tr>\n",
       "      <td>98</td>\n",
       "      <td>M8X</td>\n",
       "      <td>Etobicoke</td>\n",
       "      <td>The Kingsway , Montgomery Road  , Old Mill North</td>\n",
       "      <td>43.651893</td>\n",
       "      <td>-79.381713</td>\n",
       "    </tr>\n",
       "    <tr>\n",
       "      <td>99</td>\n",
       "      <td>M4Y</td>\n",
       "      <td>Downtown Toronto</td>\n",
       "      <td>Church and Wellesley</td>\n",
       "      <td>43.651893</td>\n",
       "      <td>-79.381713</td>\n",
       "    </tr>\n",
       "    <tr>\n",
       "      <td>100</td>\n",
       "      <td>M7Y</td>\n",
       "      <td>East Toronto</td>\n",
       "      <td>Business reply mail Processing CentrE</td>\n",
       "      <td>43.651893</td>\n",
       "      <td>-79.381713</td>\n",
       "    </tr>\n",
       "    <tr>\n",
       "      <td>101</td>\n",
       "      <td>M8Y</td>\n",
       "      <td>Etobicoke</td>\n",
       "      <td>Old Mill South , King's Mill Park , Sunnylea ,...</td>\n",
       "      <td>43.651893</td>\n",
       "      <td>-79.381713</td>\n",
       "    </tr>\n",
       "    <tr>\n",
       "      <td>102</td>\n",
       "      <td>M8Z</td>\n",
       "      <td>Etobicoke</td>\n",
       "      <td>Mimico NW , The Queensway West , South of Bloo...</td>\n",
       "      <td>43.651893</td>\n",
       "      <td>-79.381713</td>\n",
       "    </tr>\n",
       "  </tbody>\n",
       "</table>\n",
       "<p>103 rows × 5 columns</p>\n",
       "</div>"
      ],
      "text/plain": [
       "    Postal code           Borough  \\\n",
       "0           M3A        North York   \n",
       "1           M4A        North York   \n",
       "2           M5A  Downtown Toronto   \n",
       "3           M6A        North York   \n",
       "4           M7A  Downtown Toronto   \n",
       "..          ...               ...   \n",
       "98          M8X         Etobicoke   \n",
       "99          M4Y  Downtown Toronto   \n",
       "100         M7Y      East Toronto   \n",
       "101         M8Y         Etobicoke   \n",
       "102         M8Z         Etobicoke   \n",
       "\n",
       "                                          Neighborhood   latitude  longitude  \n",
       "0                                            Parkwoods  43.654060 -79.368190  \n",
       "1                                     Victoria Village  43.654060 -79.368190  \n",
       "2                           Regent Park , Harbourfront  43.654060 -79.368190  \n",
       "3                    Lawrence Manor , Lawrence Heights  43.654060 -79.368190  \n",
       "4         Queen's Park , Ontario Provincial Government  43.662500 -79.392550  \n",
       "..                                                 ...        ...        ...  \n",
       "98    The Kingsway , Montgomery Road  , Old Mill North  43.651893 -79.381713  \n",
       "99                                Church and Wellesley  43.651893 -79.381713  \n",
       "100              Business reply mail Processing CentrE  43.651893 -79.381713  \n",
       "101  Old Mill South , King's Mill Park , Sunnylea ,...  43.651893 -79.381713  \n",
       "102  Mimico NW , The Queensway West , South of Bloo...  43.651893 -79.381713  \n",
       "\n",
       "[103 rows x 5 columns]"
      ]
     },
     "execution_count": 144,
     "metadata": {},
     "output_type": "execute_result"
    }
   ],
   "source": [
    "data"
   ]
  },
  {
   "cell_type": "markdown",
   "metadata": {},
   "source": [
    "We source the csv file for checking our fetched coordinates:"
   ]
  },
  {
   "cell_type": "code",
   "execution_count": 145,
   "metadata": {},
   "outputs": [],
   "source": [
    "csv_link='https://cocl.us/Geospatial_data'\n",
    "geo = pd.read_csv(csv_link)\n",
    "geo.columns=['Postal code','Latitude','Longitude']"
   ]
  },
  {
   "cell_type": "code",
   "execution_count": 146,
   "metadata": {},
   "outputs": [],
   "source": [
    "Toronto = pd.merge(data,geo,on='Postal code')"
   ]
  },
  {
   "cell_type": "code",
   "execution_count": 147,
   "metadata": {
    "scrolled": true
   },
   "outputs": [
    {
     "data": {
      "text/html": [
       "<div>\n",
       "<style scoped>\n",
       "    .dataframe tbody tr th:only-of-type {\n",
       "        vertical-align: middle;\n",
       "    }\n",
       "\n",
       "    .dataframe tbody tr th {\n",
       "        vertical-align: top;\n",
       "    }\n",
       "\n",
       "    .dataframe thead th {\n",
       "        text-align: right;\n",
       "    }\n",
       "</style>\n",
       "<table border=\"1\" class=\"dataframe\">\n",
       "  <thead>\n",
       "    <tr style=\"text-align: right;\">\n",
       "      <th></th>\n",
       "      <th>Postal code</th>\n",
       "      <th>Borough</th>\n",
       "      <th>Neighborhood</th>\n",
       "      <th>latitude</th>\n",
       "      <th>longitude</th>\n",
       "      <th>Latitude</th>\n",
       "      <th>Longitude</th>\n",
       "    </tr>\n",
       "  </thead>\n",
       "  <tbody>\n",
       "    <tr>\n",
       "      <td>0</td>\n",
       "      <td>M3A</td>\n",
       "      <td>North York</td>\n",
       "      <td>Parkwoods</td>\n",
       "      <td>43.65406</td>\n",
       "      <td>-79.36819</td>\n",
       "      <td>43.753259</td>\n",
       "      <td>-79.329656</td>\n",
       "    </tr>\n",
       "    <tr>\n",
       "      <td>1</td>\n",
       "      <td>M4A</td>\n",
       "      <td>North York</td>\n",
       "      <td>Victoria Village</td>\n",
       "      <td>43.65406</td>\n",
       "      <td>-79.36819</td>\n",
       "      <td>43.725882</td>\n",
       "      <td>-79.315572</td>\n",
       "    </tr>\n",
       "    <tr>\n",
       "      <td>2</td>\n",
       "      <td>M5A</td>\n",
       "      <td>Downtown Toronto</td>\n",
       "      <td>Regent Park , Harbourfront</td>\n",
       "      <td>43.65406</td>\n",
       "      <td>-79.36819</td>\n",
       "      <td>43.654260</td>\n",
       "      <td>-79.360636</td>\n",
       "    </tr>\n",
       "    <tr>\n",
       "      <td>3</td>\n",
       "      <td>M6A</td>\n",
       "      <td>North York</td>\n",
       "      <td>Lawrence Manor , Lawrence Heights</td>\n",
       "      <td>43.65406</td>\n",
       "      <td>-79.36819</td>\n",
       "      <td>43.718518</td>\n",
       "      <td>-79.464763</td>\n",
       "    </tr>\n",
       "    <tr>\n",
       "      <td>4</td>\n",
       "      <td>M7A</td>\n",
       "      <td>Downtown Toronto</td>\n",
       "      <td>Queen's Park , Ontario Provincial Government</td>\n",
       "      <td>43.66250</td>\n",
       "      <td>-79.39255</td>\n",
       "      <td>43.662301</td>\n",
       "      <td>-79.389494</td>\n",
       "    </tr>\n",
       "  </tbody>\n",
       "</table>\n",
       "</div>"
      ],
      "text/plain": [
       "  Postal code           Borough                                  Neighborhood  \\\n",
       "0         M3A        North York                                     Parkwoods   \n",
       "1         M4A        North York                              Victoria Village   \n",
       "2         M5A  Downtown Toronto                    Regent Park , Harbourfront   \n",
       "3         M6A        North York             Lawrence Manor , Lawrence Heights   \n",
       "4         M7A  Downtown Toronto  Queen's Park , Ontario Provincial Government   \n",
       "\n",
       "   latitude  longitude   Latitude  Longitude  \n",
       "0  43.65406  -79.36819  43.753259 -79.329656  \n",
       "1  43.65406  -79.36819  43.725882 -79.315572  \n",
       "2  43.65406  -79.36819  43.654260 -79.360636  \n",
       "3  43.65406  -79.36819  43.718518 -79.464763  \n",
       "4  43.66250  -79.39255  43.662301 -79.389494  "
      ]
     },
     "execution_count": 147,
     "metadata": {},
     "output_type": "execute_result"
    }
   ],
   "source": [
    "Toronto.head()"
   ]
  },
  {
   "cell_type": "markdown",
   "metadata": {},
   "source": [
    "It seems that there is a difference in coodinates, but little. We keep these 4 columns and rename it to distinguish"
   ]
  },
  {
   "cell_type": "code",
   "execution_count": 149,
   "metadata": {},
   "outputs": [],
   "source": [
    "Toronto.columns=['Postal code','Borough','Neighborhood','Latitude_API','Longitude_API','Latitude_csv','Longitude_csv']"
   ]
  },
  {
   "cell_type": "code",
   "execution_count": 150,
   "metadata": {},
   "outputs": [
    {
     "data": {
      "text/html": [
       "<div>\n",
       "<style scoped>\n",
       "    .dataframe tbody tr th:only-of-type {\n",
       "        vertical-align: middle;\n",
       "    }\n",
       "\n",
       "    .dataframe tbody tr th {\n",
       "        vertical-align: top;\n",
       "    }\n",
       "\n",
       "    .dataframe thead th {\n",
       "        text-align: right;\n",
       "    }\n",
       "</style>\n",
       "<table border=\"1\" class=\"dataframe\">\n",
       "  <thead>\n",
       "    <tr style=\"text-align: right;\">\n",
       "      <th></th>\n",
       "      <th>Postal code</th>\n",
       "      <th>Borough</th>\n",
       "      <th>Neighborhood</th>\n",
       "      <th>Latitude_API</th>\n",
       "      <th>Longitude_API</th>\n",
       "      <th>Latitude_csv</th>\n",
       "      <th>Longitude_csv</th>\n",
       "    </tr>\n",
       "  </thead>\n",
       "  <tbody>\n",
       "    <tr>\n",
       "      <td>0</td>\n",
       "      <td>M3A</td>\n",
       "      <td>North York</td>\n",
       "      <td>Parkwoods</td>\n",
       "      <td>43.65406</td>\n",
       "      <td>-79.36819</td>\n",
       "      <td>43.753259</td>\n",
       "      <td>-79.329656</td>\n",
       "    </tr>\n",
       "    <tr>\n",
       "      <td>1</td>\n",
       "      <td>M4A</td>\n",
       "      <td>North York</td>\n",
       "      <td>Victoria Village</td>\n",
       "      <td>43.65406</td>\n",
       "      <td>-79.36819</td>\n",
       "      <td>43.725882</td>\n",
       "      <td>-79.315572</td>\n",
       "    </tr>\n",
       "    <tr>\n",
       "      <td>2</td>\n",
       "      <td>M5A</td>\n",
       "      <td>Downtown Toronto</td>\n",
       "      <td>Regent Park , Harbourfront</td>\n",
       "      <td>43.65406</td>\n",
       "      <td>-79.36819</td>\n",
       "      <td>43.654260</td>\n",
       "      <td>-79.360636</td>\n",
       "    </tr>\n",
       "    <tr>\n",
       "      <td>3</td>\n",
       "      <td>M6A</td>\n",
       "      <td>North York</td>\n",
       "      <td>Lawrence Manor , Lawrence Heights</td>\n",
       "      <td>43.65406</td>\n",
       "      <td>-79.36819</td>\n",
       "      <td>43.718518</td>\n",
       "      <td>-79.464763</td>\n",
       "    </tr>\n",
       "    <tr>\n",
       "      <td>4</td>\n",
       "      <td>M7A</td>\n",
       "      <td>Downtown Toronto</td>\n",
       "      <td>Queen's Park , Ontario Provincial Government</td>\n",
       "      <td>43.66250</td>\n",
       "      <td>-79.39255</td>\n",
       "      <td>43.662301</td>\n",
       "      <td>-79.389494</td>\n",
       "    </tr>\n",
       "  </tbody>\n",
       "</table>\n",
       "</div>"
      ],
      "text/plain": [
       "  Postal code           Borough                                  Neighborhood  \\\n",
       "0         M3A        North York                                     Parkwoods   \n",
       "1         M4A        North York                              Victoria Village   \n",
       "2         M5A  Downtown Toronto                    Regent Park , Harbourfront   \n",
       "3         M6A        North York             Lawrence Manor , Lawrence Heights   \n",
       "4         M7A  Downtown Toronto  Queen's Park , Ontario Provincial Government   \n",
       "\n",
       "   Latitude_API  Longitude_API  Latitude_csv  Longitude_csv  \n",
       "0      43.65406      -79.36819     43.753259     -79.329656  \n",
       "1      43.65406      -79.36819     43.725882     -79.315572  \n",
       "2      43.65406      -79.36819     43.654260     -79.360636  \n",
       "3      43.65406      -79.36819     43.718518     -79.464763  \n",
       "4      43.66250      -79.39255     43.662301     -79.389494  "
      ]
     },
     "execution_count": 150,
     "metadata": {},
     "output_type": "execute_result"
    }
   ],
   "source": [
    "Toronto.head()"
   ]
  },
  {
   "cell_type": "code",
   "execution_count": 1,
   "metadata": {},
   "outputs": [
    {
     "ename": "NameError",
     "evalue": "name 'Toronto' is not defined",
     "output_type": "error",
     "traceback": [
      "\u001b[0;31m---------------------------------------------------------------------------\u001b[0m",
      "\u001b[0;31mNameError\u001b[0m                                 Traceback (most recent call last)",
      "\u001b[0;32m<ipython-input-1-16e7a3e8a4f0>\u001b[0m in \u001b[0;36m<module>\u001b[0;34m\u001b[0m\n\u001b[1;32m      2\u001b[0m \u001b[0mlocal_path\u001b[0m\u001b[0;34m=\u001b[0m\u001b[0;34mr'C:\\Users\\ASUS\\Documents\\Projects\\GithubRepository\\course_project\\Capstone Project\\Toronto.csv'\u001b[0m\u001b[0;34m\u001b[0m\u001b[0;34m\u001b[0m\u001b[0m\n\u001b[1;32m      3\u001b[0m \u001b[0mremote_path\u001b[0m\u001b[0;34m=\u001b[0m\u001b[0;34m'repo/course_project/Capstone Project/Toronto.csv'\u001b[0m\u001b[0;34m\u001b[0m\u001b[0;34m\u001b[0m\u001b[0m\n\u001b[0;32m----> 4\u001b[0;31m \u001b[0mToronto\u001b[0m\u001b[0;34m.\u001b[0m\u001b[0mto_csv\u001b[0m\u001b[0;34m(\u001b[0m\u001b[0mremote_path\u001b[0m\u001b[0;34m,\u001b[0m\u001b[0mindex\u001b[0m\u001b[0;34m=\u001b[0m\u001b[0;32mFalse\u001b[0m\u001b[0;34m)\u001b[0m\u001b[0;34m\u001b[0m\u001b[0;34m\u001b[0m\u001b[0m\n\u001b[0m",
      "\u001b[0;31mNameError\u001b[0m: name 'Toronto' is not defined"
     ]
    }
   ],
   "source": [
    "#Save the dataframe to not have to rerun entire code\n",
    "local_path=r'C:\\Users\\ASUS\\Documents\\Projects\\GithubRepository\\course_project\\Capstone Project\\Toronto.csv'\n",
    "remote_path='repo/course_project/Capstone Project/Toronto.csv'\n",
    "Toronto.to_csv(remote_path,index=False)"
   ]
  },
  {
   "cell_type": "markdown",
   "metadata": {},
   "source": [
    "## Step 3 - First Mapping"
   ]
  },
  {
   "cell_type": "code",
   "execution_count": 6,
   "metadata": {},
   "outputs": [
    {
     "name": "stdout",
     "output_type": "stream",
     "text": [
      "Collecting package metadata (current_repodata.json): done\n",
      "Solving environment: done\n",
      "\n",
      "## Package Plan ##\n",
      "\n",
      "  environment location: /home/jupyterlab/conda/envs/python\n",
      "\n",
      "  added / updated specs:\n",
      "    - geocoder\n",
      "\n",
      "\n",
      "The following packages will be downloaded:\n",
      "\n",
      "    package                    |            build\n",
      "    ---------------------------|-----------------\n",
      "    brotlipy-0.7.0             |py36h8c4c3a4_1000         346 KB  conda-forge\n",
      "    chardet-3.0.4              |py36h9f0ad1d_1006         188 KB  conda-forge\n",
      "    click-7.1.2                |     pyh9f0ad1d_0          64 KB  conda-forge\n",
      "    cryptography-2.9.2         |   py36h45558ae_0         613 KB  conda-forge\n",
      "    future-0.18.2              |   py36h9f0ad1d_1         714 KB  conda-forge\n",
      "    geocoder-1.38.1            |             py_1          53 KB  conda-forge\n",
      "    pysocks-1.7.1              |   py36h9f0ad1d_1          27 KB  conda-forge\n",
      "    ratelim-0.1.6              |             py_2           6 KB  conda-forge\n",
      "    urllib3-1.25.9             |             py_0          92 KB  conda-forge\n",
      "    ------------------------------------------------------------\n",
      "                                           Total:         2.1 MB\n",
      "\n",
      "The following NEW packages will be INSTALLED:\n",
      "\n",
      "  brotlipy           conda-forge/linux-64::brotlipy-0.7.0-py36h8c4c3a4_1000\n",
      "  chardet            conda-forge/linux-64::chardet-3.0.4-py36h9f0ad1d_1006\n",
      "  click              conda-forge/noarch::click-7.1.2-pyh9f0ad1d_0\n",
      "  cryptography       conda-forge/linux-64::cryptography-2.9.2-py36h45558ae_0\n",
      "  decorator          conda-forge/noarch::decorator-4.4.2-py_0\n",
      "  future             conda-forge/linux-64::future-0.18.2-py36h9f0ad1d_1\n",
      "  geocoder           conda-forge/noarch::geocoder-1.38.1-py_1\n",
      "  idna               conda-forge/noarch::idna-2.9-py_1\n",
      "  pyopenssl          conda-forge/noarch::pyopenssl-19.1.0-py_1\n",
      "  pysocks            conda-forge/linux-64::pysocks-1.7.1-py36h9f0ad1d_1\n",
      "  ratelim            conda-forge/noarch::ratelim-0.1.6-py_2\n",
      "  requests           conda-forge/noarch::requests-2.23.0-pyh8c360ce_2\n",
      "  urllib3            conda-forge/noarch::urllib3-1.25.9-py_0\n",
      "\n",
      "\n",
      "\n",
      "Downloading and Extracting Packages\n",
      "future-0.18.2        | 714 KB    | ##################################### | 100% \n",
      "chardet-3.0.4        | 188 KB    | ##################################### | 100% \n",
      "urllib3-1.25.9       | 92 KB     | ##################################### | 100% \n",
      "cryptography-2.9.2   | 613 KB    | ##################################### | 100% \n",
      "brotlipy-0.7.0       | 346 KB    | ##################################### | 100% \n",
      "pysocks-1.7.1        | 27 KB     | ##################################### | 100% \n",
      "geocoder-1.38.1      | 53 KB     | ##################################### | 100% \n",
      "ratelim-0.1.6        | 6 KB      | ##################################### | 100% \n",
      "click-7.1.2          | 64 KB     | ##################################### | 100% \n",
      "Preparing transaction: done\n",
      "Verifying transaction: done\n",
      "Executing transaction: done\n",
      "Libraries imported.\n"
     ]
    }
   ],
   "source": [
    "import numpy as np\n",
    "import pandas as pd\n",
    "pd.set_option('display.max_columns', None)\n",
    "pd.set_option('display.max_rows', None)\n",
    "\n",
    "import json # library to handle JSON files\n",
    "\n",
    "#!conda install -c conda-forge geopy --yes\n",
    "from geopy.geocoders import Nominatim \n",
    "\n",
    "#!conda install -c conda-forge geocoder --yes\n",
    "import geocoder\n",
    "\n",
    "import requests \n",
    "from pandas import json_normalize \n",
    "\n",
    "# Matplotlib and associated plotting modules\n",
    "import matplotlib.cm as cm\n",
    "import matplotlib.colors as colors\n",
    "\n",
    "# import k-means from clustering stage\n",
    "from sklearn.cluster import KMeans\n",
    "\n",
    "\n",
    "import folium # map rendering library\n",
    "\n",
    "print('Libraries imported.')"
   ]
  },
  {
   "cell_type": "code",
   "execution_count": 15,
   "metadata": {},
   "outputs": [
    {
     "data": {
      "text/html": [
       "<div>\n",
       "<style scoped>\n",
       "    .dataframe tbody tr th:only-of-type {\n",
       "        vertical-align: middle;\n",
       "    }\n",
       "\n",
       "    .dataframe tbody tr th {\n",
       "        vertical-align: top;\n",
       "    }\n",
       "\n",
       "    .dataframe thead th {\n",
       "        text-align: right;\n",
       "    }\n",
       "</style>\n",
       "<table border=\"1\" class=\"dataframe\">\n",
       "  <thead>\n",
       "    <tr style=\"text-align: right;\">\n",
       "      <th></th>\n",
       "      <th>Postal code</th>\n",
       "      <th>Borough</th>\n",
       "      <th>Neighborhood</th>\n",
       "      <th>Latitude_API</th>\n",
       "      <th>Longitude_API</th>\n",
       "      <th>Latitude_csv</th>\n",
       "      <th>Longitude_csv</th>\n",
       "    </tr>\n",
       "  </thead>\n",
       "  <tbody>\n",
       "    <tr>\n",
       "      <th>0</th>\n",
       "      <td>M3A</td>\n",
       "      <td>North York</td>\n",
       "      <td>Parkwoods</td>\n",
       "      <td>43.65406</td>\n",
       "      <td>-79.36819</td>\n",
       "      <td>43.753259</td>\n",
       "      <td>-79.329656</td>\n",
       "    </tr>\n",
       "    <tr>\n",
       "      <th>1</th>\n",
       "      <td>M4A</td>\n",
       "      <td>North York</td>\n",
       "      <td>Victoria Village</td>\n",
       "      <td>43.65406</td>\n",
       "      <td>-79.36819</td>\n",
       "      <td>43.725882</td>\n",
       "      <td>-79.315572</td>\n",
       "    </tr>\n",
       "    <tr>\n",
       "      <th>2</th>\n",
       "      <td>M5A</td>\n",
       "      <td>Downtown Toronto</td>\n",
       "      <td>Regent Park , Harbourfront</td>\n",
       "      <td>43.65406</td>\n",
       "      <td>-79.36819</td>\n",
       "      <td>43.654260</td>\n",
       "      <td>-79.360636</td>\n",
       "    </tr>\n",
       "    <tr>\n",
       "      <th>3</th>\n",
       "      <td>M6A</td>\n",
       "      <td>North York</td>\n",
       "      <td>Lawrence Manor , Lawrence Heights</td>\n",
       "      <td>43.65406</td>\n",
       "      <td>-79.36819</td>\n",
       "      <td>43.718518</td>\n",
       "      <td>-79.464763</td>\n",
       "    </tr>\n",
       "    <tr>\n",
       "      <th>4</th>\n",
       "      <td>M7A</td>\n",
       "      <td>Downtown Toronto</td>\n",
       "      <td>Queen's Park , Ontario Provincial Government</td>\n",
       "      <td>43.66250</td>\n",
       "      <td>-79.39255</td>\n",
       "      <td>43.662301</td>\n",
       "      <td>-79.389494</td>\n",
       "    </tr>\n",
       "  </tbody>\n",
       "</table>\n",
       "</div>"
      ],
      "text/plain": [
       "  Postal code           Borough                                  Neighborhood  \\\n",
       "0         M3A        North York                                     Parkwoods   \n",
       "1         M4A        North York                              Victoria Village   \n",
       "2         M5A  Downtown Toronto                    Regent Park , Harbourfront   \n",
       "3         M6A        North York             Lawrence Manor , Lawrence Heights   \n",
       "4         M7A  Downtown Toronto  Queen's Park , Ontario Provincial Government   \n",
       "\n",
       "   Latitude_API  Longitude_API  Latitude_csv  Longitude_csv  \n",
       "0      43.65406      -79.36819     43.753259     -79.329656  \n",
       "1      43.65406      -79.36819     43.725882     -79.315572  \n",
       "2      43.65406      -79.36819     43.654260     -79.360636  \n",
       "3      43.65406      -79.36819     43.718518     -79.464763  \n",
       "4      43.66250      -79.39255     43.662301     -79.389494  "
      ]
     },
     "execution_count": 15,
     "metadata": {},
     "output_type": "execute_result"
    }
   ],
   "source": [
    "file='Toronto.csv'\n",
    "#with open(file,'r') as f:\n",
    "Toronto=pd.read_csv(file)\n",
    "Toronto.head()"
   ]
  },
  {
   "cell_type": "code",
   "execution_count": 8,
   "metadata": {},
   "outputs": [],
   "source": [
    "# @hidden_cell\n",
    "#key for mapquest\n",
    "api_key='HLJmHd8IPVFjJmXifeWEml3TCWFABHbG'"
   ]
  },
  {
   "cell_type": "code",
   "execution_count": 9,
   "metadata": {},
   "outputs": [
    {
     "data": {
      "text/plain": [
       "<[OK] Mapquest - Geocode [Toronto]>"
      ]
     },
     "execution_count": 9,
     "metadata": {},
     "output_type": "execute_result"
    }
   ],
   "source": [
    "toronto_coord= geocoder.mapquest('Toronto', key=api_key)\n",
    "toronto_coord"
   ]
  },
  {
   "cell_type": "code",
   "execution_count": 10,
   "metadata": {},
   "outputs": [],
   "source": [
    "toronto_lat=toronto_coord.latlng[0]\n",
    "toronto_long=toronto_coord.latlng[1]\n",
    "\n"
   ]
  },
  {
   "cell_type": "code",
   "execution_count": 16,
   "metadata": {},
   "outputs": [
    {
     "data": {
      "text/html": [
       "<div style=\"width:100%;\"><div style=\"position:relative;width:100%;height:0;padding-bottom:60%;\"><iframe src=\"about:blank\" style=\"position:absolute;width:100%;height:100%;left:0;top:0;border:none !important;\" data-html=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 onload=\"this.contentDocument.open();this.contentDocument.write(atob(this.getAttribute('data-html')));this.contentDocument.close();\" allowfullscreen webkitallowfullscreen mozallowfullscreen></iframe></div></div>"
      ],
      "text/plain": [
       "<folium.folium.Map at 0x7f238f8a10f0>"
      ]
     },
     "execution_count": 16,
     "metadata": {},
     "output_type": "execute_result"
    }
   ],
   "source": [
    "Toronto_map = folium.Map(location=[toronto_lat, toronto_long], zoom_start=12)\n",
    "\n",
    "# add markers to map\n",
    "for lat, lng, label in zip(Toronto['Latitude_csv'], Toronto['Longitude_csv'], Toronto['Neighborhood']):\n",
    "    label = folium.Popup(label, parse_html=True)\n",
    "    folium.CircleMarker(\n",
    "        [lat, lng],\n",
    "        radius=5,\n",
    "        popup=label,\n",
    "        color='blue',\n",
    "        fill=True,\n",
    "        fill_color='#3186cc',\n",
    "        fill_opacity=0.7,\n",
    "        parse_html=False).add_to(Toronto_map)  \n",
    "    \n",
    "Toronto_map"
   ]
  },
  {
   "cell_type": "code",
   "execution_count": null,
   "metadata": {},
   "outputs": [],
   "source": []
  },
  {
   "cell_type": "code",
   "execution_count": null,
   "metadata": {},
   "outputs": [],
   "source": []
  },
  {
   "cell_type": "code",
   "execution_count": null,
   "metadata": {},
   "outputs": [],
   "source": []
  },
  {
   "cell_type": "code",
   "execution_count": null,
   "metadata": {},
   "outputs": [],
   "source": []
  },
  {
   "cell_type": "code",
   "execution_count": null,
   "metadata": {},
   "outputs": [],
   "source": []
  },
  {
   "cell_type": "markdown",
   "metadata": {},
   "source": [
    "## Source used to realized taks above:\n",
    "* https://hackersandslackers.com/scraping-urls-with-beautifulsoup/\n",
    "* https://www.dataquest.io/blog/web-scraping-beautifulsoup/\n",
    "* https://fr.python-requests.org/en/latest/user/advanced.html\n"
   ]
  }
 ],
 "metadata": {
  "kernelspec": {
   "display_name": "Python",
   "language": "python",
   "name": "conda-env-python-py"
  },
  "language_info": {
   "codemirror_mode": {
    "name": "ipython",
    "version": 3
   },
   "file_extension": ".py",
   "mimetype": "text/x-python",
   "name": "python",
   "nbconvert_exporter": "python",
   "pygments_lexer": "ipython3",
   "version": "3.6.10"
  }
 },
 "nbformat": 4,
 "nbformat_minor": 4
}
